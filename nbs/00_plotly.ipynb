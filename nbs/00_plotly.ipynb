{
 "cells": [
  {
   "cell_type": "markdown",
   "metadata": {},
   "source": [
    "# plotly\n",
    "\n",
    "> plotly json conversion to widget json for quatro"
   ]
  },
  {
   "cell_type": "code",
   "execution_count": null,
   "metadata": {},
   "outputs": [],
   "source": [
    "#| default_exp plotly"
   ]
  },
  {
   "cell_type": "code",
   "execution_count": null,
   "metadata": {},
   "outputs": [],
   "source": [
    "#| export\n",
    "from nbdev.process import NBProcessor, dict2nb\n",
    "from nbdev.process import Processor\n"
   ]
  },
  {
   "cell_type": "code",
   "execution_count": null,
   "metadata": {},
   "outputs": [],
   "source": [
    "#| export\n",
    "PLOTLY_KEY = 'application/vnd.plotly.v1+json'\n",
    "JUPYTER_WIDGET_KEY = 'application/vnd.jupyter.widget-view+json'"
   ]
  },
  {
   "cell_type": "code",
   "execution_count": null,
   "metadata": {},
   "outputs": [],
   "source": [
    "#| export\n",
    "class PlotlyProc(Processor):\n",
    "    \"A processor that will do the conversion for outputs\"\n",
    "    has_multiple_cells = False\n",
    "    def cell(self, cell):\n",
    "        if 'outputs' in cell:\n",
    "            output = cell['outputs']\n",
    "            for k in output:\n",
    "                if 'data' in k:\n",
    "                    data = k['data']\n",
    "                    if PLOTLY_KEY in data:\n",
    "                        data[JUPYTER_WIDGET_KEY] = data[PLOTLY_KEY]                        \n",
    "                        del data[PLOTLY_KEY]   \n",
    "                        print('Plotly replaced')"
   ]
  }
 ],
 "metadata": {
  "kernelspec": {
   "display_name": "python3",
   "language": "python",
   "name": "python3"
  }
 },
 "nbformat": 4,
 "nbformat_minor": 4
}
